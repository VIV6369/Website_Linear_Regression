{
 "cells": [
  {
   "cell_type": "markdown",
   "id": "f8b699c1",
   "metadata": {},
   "source": [
    "***Linear regression calculation for the website dataset***\n",
    "\n",
    "A new dataset named website has been loaded for you in the workspace containing simulated data for a sample of visitors to a website, including the amount of time in seconds they spent on the website (time_seconds), their age (age), and information about whether they accessed the website using Chrome or Safari (browser)."
   ]
  },
  {
   "cell_type": "markdown",
   "id": "89ee4b74",
   "metadata": {},
   "source": [
    "First let's load libraries and examine dataset."
   ]
  },
  {
   "cell_type": "code",
   "execution_count": 2,
   "id": "5d16b833",
   "metadata": {},
   "outputs": [
    {
     "name": "stdout",
     "output_type": "stream",
     "text": [
      "   time_seconds   age browser\n",
      "0         486.0  47.1  Safari\n",
      "1         645.7  64.6  Chrome\n",
      "2         345.0  45.4  Safari\n",
      "3         413.4  34.4  Chrome\n",
      "4         426.4  31.3  Safari\n"
     ]
    }
   ],
   "source": [
    "import pandas as pd\n",
    "import numpy as np\n",
    "import matplotlib.pyplot as plt\n",
    "import statsmodels.api as sm\n",
    "\n",
    "# Read in the data\n",
    "website = pd.read_csv('website.csv')\n",
    "\n",
    "# Print the first five rows\n",
    "print(website.head())"
   ]
  },
  {
   "cell_type": "markdown",
   "id": "d7c5b5c4",
   "metadata": {},
   "source": [
    "1. Create a plot of time_seconds (vertical axis) versus age (horizontal axis). Is there a linear relationship between these variables?"
   ]
  },
  {
   "cell_type": "code",
   "execution_count": 3,
   "id": "fe659591",
   "metadata": {},
   "outputs": [
    {
     "data": {
      "image/png": "[encoded data removed]",
      "text/plain": [
       "<Figure size 432x288 with 1 Axes>"
      ]
     },
     "metadata": {
      "needs_background": "light"
     },
     "output_type": "display_data"
    },
    {
     "data": {
      "text/plain": [
       "<Figure size 432x288 with 0 Axes>"
      ]
     },
     "metadata": {},
     "output_type": "display_data"
    }
   ],
   "source": [
    "plt.scatter(website.age, website.time_seconds)\n",
    "# Show then clear plot\n",
    "plt.show()\n",
    "plt.clf()"
   ]
  },
  {
   "cell_type": "markdown",
   "id": "c7f9f2c3",
   "metadata": {},
   "source": [
    "2. Fit a linear model to predict time_seconds using the age variable"
   ]
  },
  {
   "cell_type": "code",
   "execution_count": 4,
   "id": "8ecd5532",
   "metadata": {},
   "outputs": [
    {
     "name": "stdout",
     "output_type": "stream",
     "text": [
      "Intercept    128.967945\n",
      "age            6.913758\n",
      "dtype: float64\n"
     ]
    }
   ],
   "source": [
    "model = sm.OLS.from_formula('time_seconds ~ age', data = website)\n",
    "results = model.fit()\n",
    "print(results.params)"
   ]
  },
  {
   "cell_type": "markdown",
   "id": "4f9f9757",
   "metadata": {},
   "source": [
    "3. Use the coefficients from the linear model to plot the regression line on top of your original plot."
   ]
  },
  {
   "cell_type": "code",
   "execution_count": 5,
   "id": "e1eae59f",
   "metadata": {},
   "outputs": [
    {
     "data": {
      "image/png": "[encoded data removed]",
      "text/plain": [
       "<Figure size 432x288 with 1 Axes>"
      ]
     },
     "metadata": {
      "needs_background": "light"
     },
     "output_type": "display_data"
    },
    {
     "data": {
      "text/plain": [
       "<Figure size 432x288 with 0 Axes>"
      ]
     },
     "metadata": {},
     "output_type": "display_data"
    }
   ],
   "source": [
    "predicted_time = results.params[1]*website.age + results.params[0]\n",
    "plt.scatter(website.age, website.time_seconds)\n",
    "plt.plot(website.age, predicted_time)\n",
    "# Show then clear plot\n",
    "plt.show()\n",
    "plt.clf()"
   ]
  },
  {
   "cell_type": "markdown",
   "id": "599e9d2e",
   "metadata": {},
   "source": [
    "4. Calculate the fitted values and residuals"
   ]
  },
  {
   "cell_type": "code",
   "execution_count": 6,
   "id": "01430160",
   "metadata": {},
   "outputs": [
    {
     "name": "stdout",
     "output_type": "stream",
     "text": [
      "0     454.605928\n",
      "1     575.596686\n",
      "2     442.852540\n",
      "3     366.801206\n",
      "4     345.368558\n",
      "         ...    \n",
      "95    429.716401\n",
      "96    545.176152\n",
      "97    440.778413\n",
      "98    290.749873\n",
      "99    395.838988\n",
      "Length: 100, dtype: float64\n",
      "0      31.394072\n",
      "1      70.103314\n",
      "2     -97.852540\n",
      "3      46.598794\n",
      "4      81.031442\n",
      "         ...    \n",
      "95     26.983599\n",
      "96     73.923848\n",
      "97    -76.478413\n",
      "98     94.550127\n",
      "99   -124.138988\n",
      "Length: 100, dtype: float64\n"
     ]
    }
   ],
   "source": [
    "fitted_values = results.predict(website)\n",
    "print(fitted_values)\n",
    "# Calculate residuals\n",
    "residuals = website.time_seconds - fitted_values\n",
    "print(residuals)"
   ]
  },
  {
   "cell_type": "markdown",
   "id": "dbbf31f7",
   "metadata": {},
   "source": [
    "5. Check the normality assumption by plotting a histogram of the residuals. Are they approximately normally distributed?"
   ]
  },
  {
   "cell_type": "code",
   "execution_count": 7,
   "id": "1109d9a1",
   "metadata": {},
   "outputs": [
    {
     "data": {
      "image/png": "[encoded data removed]",
      "text/plain": [
       "<Figure size 432x288 with 1 Axes>"
      ]
     },
     "metadata": {
      "needs_background": "light"
     },
     "output_type": "display_data"
    },
    {
     "name": "stdout",
     "output_type": "stream",
     "text": [
      "These residuals appear normally distributed, leading us to conclude that the normality assumption is satisfied.\n"
     ]
    },
    {
     "data": {
      "text/plain": [
       "<Figure size 432x288 with 0 Axes>"
      ]
     },
     "metadata": {},
     "output_type": "display_data"
    }
   ],
   "source": [
    "plt.hist(residuals)\n",
    "# Show then clear the plot\n",
    "plt.show()\n",
    "plt.clf()\n",
    "print(\"These residuals appear normally distributed, leading us to conclude that the normality assumption is satisfied.\")"
   ]
  },
  {
   "cell_type": "markdown",
   "id": "dd23fe18",
   "metadata": {},
   "source": [
    "6. Check the homoscedasticity assumption by plotting a the residuals against the fitted values. Is this assumption satisfied?"
   ]
  },
  {
   "cell_type": "code",
   "execution_count": 9,
   "id": "bc5fca2b",
   "metadata": {},
   "outputs": [
    {
     "data": {
      "image/png": "[encoded data removed]",
      "text/plain": [
       "<Figure size 432x288 with 1 Axes>"
      ]
     },
     "metadata": {
      "needs_background": "light"
     },
     "output_type": "display_data"
    },
    {
     "name": "stdout",
     "output_type": "stream",
     "text": [
      "The homoscedasticity assumption is met, this plot looks like a random splatter of points, centered around y=0\n"
     ]
    },
    {
     "data": {
      "text/plain": [
       "<Figure size 432x288 with 0 Axes>"
      ]
     },
     "metadata": {},
     "output_type": "display_data"
    }
   ],
   "source": [
    "plt.scatter(fitted_values,residuals)\n",
    "# Show then clear the plot\n",
    "plt.show()\n",
    "plt.clf()\n",
    "print(\"The homoscedasticity assumption is met, this plot looks like a random splatter of points, centered around y=0\")"
   ]
  },
  {
   "cell_type": "markdown",
   "id": "7c0c1416",
   "metadata": {},
   "source": [
    "7. Use your model to predict the amount of time that a 40 year old person will spend on the website."
   ]
  },
  {
   "cell_type": "code",
   "execution_count": 10,
   "id": "3a52fa85",
   "metadata": {},
   "outputs": [
    {
     "name": "stdout",
     "output_type": "stream",
     "text": [
      "40 years old person will spend around 405.5 seconds\n"
     ]
    }
   ],
   "source": [
    "pred_40y = results.predict({'age':[40]})\n",
    "print(\"40 years old person will spend around {} seconds\".format(round(pred_40y[0],1)))"
   ]
  },
  {
   "cell_type": "markdown",
   "id": "d0290855",
   "metadata": {},
   "source": [
    "8. Fit another model that predicts time_seconds based on browser."
   ]
  },
  {
   "cell_type": "code",
   "execution_count": 11,
   "id": "dee630ca",
   "metadata": {},
   "outputs": [
    {
     "name": "stdout",
     "output_type": "stream",
     "text": [
      "Intercept            489.704255\n",
      "browser[T.Safari]    -99.057086\n",
      "dtype: float64\n"
     ]
    }
   ],
   "source": [
    "model1 = sm.OLS.from_formula('time_seconds ~ browser', data = website)\n",
    "results1 = model1.fit()\n",
    "print(results1.params)"
   ]
  },
  {
   "cell_type": "markdown",
   "id": "7c0f290e",
   "metadata": {},
   "source": [
    "9. Print out the coefficients. What is the difference in average time spent on each browser?"
   ]
  },
  {
   "cell_type": "code",
   "execution_count": 18,
   "id": "7e012ed7",
   "metadata": {},
   "outputs": [
    {
     "name": "stdout",
     "output_type": "stream",
     "text": [
      "browser\n",
      "Chrome    489.704255\n",
      "Safari    390.647170\n",
      "Name: time_seconds, dtype: float64\n",
      "Mean difference between two browsers is -99.1 seconds\n",
      "On average visitors who uses Chrome browser spent 99.1 seconds more than visitors who uses Safari\n"
     ]
    }
   ],
   "source": [
    "print(website.groupby('browser').mean().time_seconds)\n",
    "print(\"Mean difference between two browsers is {} seconds\".format(round(results1.params[1],1)))\n",
    "print(\"On average visitors who uses Chrome browser spent 99.1 seconds more than visitors who uses Safari\")"
   ]
  },
  {
   "cell_type": "code",
   "execution_count": null,
   "id": "9e30348f",
   "metadata": {},
   "outputs": [],
   "source": []
  }
 ],
 "metadata": {
  "kernelspec": {
   "display_name": "Python 3 (ipykernel)",
   "language": "python",
   "name": "python3"
  },
  "language_info": {
   "codemirror_mode": {
    "name": "ipython",
    "version": 3
   },
   "file_extension": ".py",
   "mimetype": "text/x-python",
   "name": "python",
   "nbconvert_exporter": "python",
   "pygments_lexer": "ipython3",
   "version": "3.9.7"
  }
 },
 "nbformat": 4,
 "nbformat_minor": 5
}
